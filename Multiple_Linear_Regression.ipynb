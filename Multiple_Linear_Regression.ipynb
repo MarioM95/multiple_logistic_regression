{
 "cells": [
  {
   "cell_type": "markdown",
   "id": "e44b817a-6a28-4256-a0de-ba71f85e4afd",
   "metadata": {
    "id": "e44b817a-6a28-4256-a0de-ba71f85e4afd"
   },
   "source": [
    "# Multiple Logistic Regression"
   ]
  },
  {
   "cell_type": "code",
   "execution_count": 1,
   "id": "44c91d76-3ed2-4d0a-9874-8037a819787b",
   "metadata": {
    "id": "44c91d76-3ed2-4d0a-9874-8037a819787b"
   },
   "outputs": [],
   "source": [
    "import numpy as np\n",
    "import pandas as pd\n",
    "\n",
    "from matplotlib import pyplot as plt\n",
    "import seaborn as sns\n",
    "sns.set_theme()\n",
    "\n",
    "import statsmodels.api as sm"
   ]
  },
  {
   "cell_type": "markdown",
   "id": "e56c9a4d-2581-4c82-a29d-444fefd1361d",
   "metadata": {
    "id": "e56c9a4d-2581-4c82-a29d-444fefd1361d"
   },
   "source": [
    "1. Load the `kc_housing_data.csv` dataset from the `data` folder to a new DataFrame named `df`. The data set contains data relative to *home sales prices and characteristics for Seattle and King County, WA between May 2014 and 2015"
   ]
  },
  {
   "cell_type": "code",
   "execution_count": 2,
   "id": "178d7d1c-29d9-4d07-ab8d-9187104c779e",
   "metadata": {
    "id": "178d7d1c-29d9-4d07-ab8d-9187104c779e",
    "outputId": "bf7b58a9-c042-4192-9dad-694ac758ab13"
   },
   "outputs": [
    {
     "data": {
      "text/html": [
       "<div>\n",
       "<style scoped>\n",
       "    .dataframe tbody tr th:only-of-type {\n",
       "        vertical-align: middle;\n",
       "    }\n",
       "\n",
       "    .dataframe tbody tr th {\n",
       "        vertical-align: top;\n",
       "    }\n",
       "\n",
       "    .dataframe thead th {\n",
       "        text-align: right;\n",
       "    }\n",
       "</style>\n",
       "<table border=\"1\" class=\"dataframe\">\n",
       "  <thead>\n",
       "    <tr style=\"text-align: right;\">\n",
       "      <th></th>\n",
       "      <th>id</th>\n",
       "      <th>date</th>\n",
       "      <th>price</th>\n",
       "      <th>bedrooms</th>\n",
       "      <th>bathrooms</th>\n",
       "      <th>sqft_living</th>\n",
       "      <th>sqft_lot</th>\n",
       "      <th>floors</th>\n",
       "      <th>waterfront</th>\n",
       "      <th>view</th>\n",
       "      <th>...</th>\n",
       "      <th>grade</th>\n",
       "      <th>sqft_above</th>\n",
       "      <th>sqft_basement</th>\n",
       "      <th>yr_built</th>\n",
       "      <th>yr_renovated</th>\n",
       "      <th>zipcode</th>\n",
       "      <th>lat</th>\n",
       "      <th>long</th>\n",
       "      <th>sqft_living15</th>\n",
       "      <th>sqft_lot15</th>\n",
       "    </tr>\n",
       "  </thead>\n",
       "  <tbody>\n",
       "    <tr>\n",
       "      <th>0</th>\n",
       "      <td>7129300520</td>\n",
       "      <td>20141013T000000</td>\n",
       "      <td>221900.0</td>\n",
       "      <td>3</td>\n",
       "      <td>1.00</td>\n",
       "      <td>1180</td>\n",
       "      <td>5650</td>\n",
       "      <td>1.0</td>\n",
       "      <td>0</td>\n",
       "      <td>0</td>\n",
       "      <td>...</td>\n",
       "      <td>7</td>\n",
       "      <td>1180</td>\n",
       "      <td>0</td>\n",
       "      <td>1955</td>\n",
       "      <td>0</td>\n",
       "      <td>98178</td>\n",
       "      <td>47.5112</td>\n",
       "      <td>-122.257</td>\n",
       "      <td>1340</td>\n",
       "      <td>5650</td>\n",
       "    </tr>\n",
       "    <tr>\n",
       "      <th>1</th>\n",
       "      <td>6414100192</td>\n",
       "      <td>20141209T000000</td>\n",
       "      <td>538000.0</td>\n",
       "      <td>3</td>\n",
       "      <td>2.25</td>\n",
       "      <td>2570</td>\n",
       "      <td>7242</td>\n",
       "      <td>2.0</td>\n",
       "      <td>0</td>\n",
       "      <td>0</td>\n",
       "      <td>...</td>\n",
       "      <td>7</td>\n",
       "      <td>2170</td>\n",
       "      <td>400</td>\n",
       "      <td>1951</td>\n",
       "      <td>1991</td>\n",
       "      <td>98125</td>\n",
       "      <td>47.7210</td>\n",
       "      <td>-122.319</td>\n",
       "      <td>1690</td>\n",
       "      <td>7639</td>\n",
       "    </tr>\n",
       "    <tr>\n",
       "      <th>2</th>\n",
       "      <td>5631500400</td>\n",
       "      <td>20150225T000000</td>\n",
       "      <td>180000.0</td>\n",
       "      <td>2</td>\n",
       "      <td>1.00</td>\n",
       "      <td>770</td>\n",
       "      <td>10000</td>\n",
       "      <td>1.0</td>\n",
       "      <td>0</td>\n",
       "      <td>0</td>\n",
       "      <td>...</td>\n",
       "      <td>6</td>\n",
       "      <td>770</td>\n",
       "      <td>0</td>\n",
       "      <td>1933</td>\n",
       "      <td>0</td>\n",
       "      <td>98028</td>\n",
       "      <td>47.7379</td>\n",
       "      <td>-122.233</td>\n",
       "      <td>2720</td>\n",
       "      <td>8062</td>\n",
       "    </tr>\n",
       "    <tr>\n",
       "      <th>3</th>\n",
       "      <td>2487200875</td>\n",
       "      <td>20141209T000000</td>\n",
       "      <td>604000.0</td>\n",
       "      <td>4</td>\n",
       "      <td>3.00</td>\n",
       "      <td>1960</td>\n",
       "      <td>5000</td>\n",
       "      <td>1.0</td>\n",
       "      <td>0</td>\n",
       "      <td>0</td>\n",
       "      <td>...</td>\n",
       "      <td>7</td>\n",
       "      <td>1050</td>\n",
       "      <td>910</td>\n",
       "      <td>1965</td>\n",
       "      <td>0</td>\n",
       "      <td>98136</td>\n",
       "      <td>47.5208</td>\n",
       "      <td>-122.393</td>\n",
       "      <td>1360</td>\n",
       "      <td>5000</td>\n",
       "    </tr>\n",
       "    <tr>\n",
       "      <th>4</th>\n",
       "      <td>1954400510</td>\n",
       "      <td>20150218T000000</td>\n",
       "      <td>510000.0</td>\n",
       "      <td>3</td>\n",
       "      <td>2.00</td>\n",
       "      <td>1680</td>\n",
       "      <td>8080</td>\n",
       "      <td>1.0</td>\n",
       "      <td>0</td>\n",
       "      <td>0</td>\n",
       "      <td>...</td>\n",
       "      <td>8</td>\n",
       "      <td>1680</td>\n",
       "      <td>0</td>\n",
       "      <td>1987</td>\n",
       "      <td>0</td>\n",
       "      <td>98074</td>\n",
       "      <td>47.6168</td>\n",
       "      <td>-122.045</td>\n",
       "      <td>1800</td>\n",
       "      <td>7503</td>\n",
       "    </tr>\n",
       "  </tbody>\n",
       "</table>\n",
       "<p>5 rows × 21 columns</p>\n",
       "</div>"
      ],
      "text/plain": [
       "           id             date     price  bedrooms  bathrooms  sqft_living  \\\n",
       "0  7129300520  20141013T000000  221900.0         3       1.00         1180   \n",
       "1  6414100192  20141209T000000  538000.0         3       2.25         2570   \n",
       "2  5631500400  20150225T000000  180000.0         2       1.00          770   \n",
       "3  2487200875  20141209T000000  604000.0         4       3.00         1960   \n",
       "4  1954400510  20150218T000000  510000.0         3       2.00         1680   \n",
       "\n",
       "   sqft_lot  floors  waterfront  view  ...  grade  sqft_above  sqft_basement  \\\n",
       "0      5650     1.0           0     0  ...      7        1180              0   \n",
       "1      7242     2.0           0     0  ...      7        2170            400   \n",
       "2     10000     1.0           0     0  ...      6         770              0   \n",
       "3      5000     1.0           0     0  ...      7        1050            910   \n",
       "4      8080     1.0           0     0  ...      8        1680              0   \n",
       "\n",
       "   yr_built  yr_renovated  zipcode      lat     long  sqft_living15  \\\n",
       "0      1955             0    98178  47.5112 -122.257           1340   \n",
       "1      1951          1991    98125  47.7210 -122.319           1690   \n",
       "2      1933             0    98028  47.7379 -122.233           2720   \n",
       "3      1965             0    98136  47.5208 -122.393           1360   \n",
       "4      1987             0    98074  47.6168 -122.045           1800   \n",
       "\n",
       "   sqft_lot15  \n",
       "0        5650  \n",
       "1        7639  \n",
       "2        8062  \n",
       "3        5000  \n",
       "4        7503  \n",
       "\n",
       "[5 rows x 21 columns]"
      ]
     },
     "execution_count": 2,
     "metadata": {},
     "output_type": "execute_result"
    }
   ],
   "source": [
    "df = pd.read_csv(\"data/kc_housing_data.csv\")\n",
    "df.head()"
   ]
  },
  {
   "cell_type": "code",
   "execution_count": 3,
   "id": "876669f2-9d54-4173-8fac-5a6625380774",
   "metadata": {
    "id": "876669f2-9d54-4173-8fac-5a6625380774",
    "outputId": "8b53524e-8225-4b7c-bc3f-14995487bdbf"
   },
   "outputs": [
    {
     "data": {
      "text/plain": [
       "Index(['id', 'date', 'price', 'bedrooms', 'bathrooms', 'sqft_living',\n",
       "       'sqft_lot', 'floors', 'waterfront', 'view', 'condition', 'grade',\n",
       "       'sqft_above', 'sqft_basement', 'yr_built', 'yr_renovated', 'zipcode',\n",
       "       'lat', 'long', 'sqft_living15', 'sqft_lot15'],\n",
       "      dtype='object')"
      ]
     },
     "execution_count": 3,
     "metadata": {},
     "output_type": "execute_result"
    }
   ],
   "source": [
    "df.columns"
   ]
  },
  {
   "cell_type": "code",
   "execution_count": 4,
   "id": "2d70d4eb-27f1-440f-9f4e-d93bbd509f7c",
   "metadata": {},
   "outputs": [
    {
     "name": "stdout",
     "output_type": "stream",
     "text": [
      "<class 'pandas.core.frame.DataFrame'>\n",
      "RangeIndex: 21613 entries, 0 to 21612\n",
      "Data columns (total 21 columns):\n",
      " #   Column         Non-Null Count  Dtype  \n",
      "---  ------         --------------  -----  \n",
      " 0   id             21613 non-null  int64  \n",
      " 1   date           21613 non-null  object \n",
      " 2   price          21613 non-null  float64\n",
      " 3   bedrooms       21613 non-null  int64  \n",
      " 4   bathrooms      21613 non-null  float64\n",
      " 5   sqft_living    21613 non-null  int64  \n",
      " 6   sqft_lot       21613 non-null  int64  \n",
      " 7   floors         21613 non-null  float64\n",
      " 8   waterfront     21613 non-null  int64  \n",
      " 9   view           21613 non-null  int64  \n",
      " 10  condition      21613 non-null  int64  \n",
      " 11  grade          21613 non-null  int64  \n",
      " 12  sqft_above     21613 non-null  int64  \n",
      " 13  sqft_basement  21613 non-null  int64  \n",
      " 14  yr_built       21613 non-null  int64  \n",
      " 15  yr_renovated   21613 non-null  int64  \n",
      " 16  zipcode        21613 non-null  int64  \n",
      " 17  lat            21613 non-null  float64\n",
      " 18  long           21613 non-null  float64\n",
      " 19  sqft_living15  21613 non-null  int64  \n",
      " 20  sqft_lot15     21613 non-null  int64  \n",
      "dtypes: float64(5), int64(15), object(1)\n",
      "memory usage: 3.5+ MB\n"
     ]
    }
   ],
   "source": [
    "df.info()"
   ]
  },
  {
   "cell_type": "code",
   "execution_count": 5,
   "id": "d1df702c-8b1b-4a17-8732-5507b331cd6f",
   "metadata": {},
   "outputs": [
    {
     "name": "stdout",
     "output_type": "stream",
     "text": [
      "<class 'pandas.core.frame.DataFrame'>\n",
      "RangeIndex: 21613 entries, 0 to 21612\n",
      "Data columns (total 21 columns):\n",
      " #   Column         Non-Null Count  Dtype         \n",
      "---  ------         --------------  -----         \n",
      " 0   id             21613 non-null  int64         \n",
      " 1   date           21613 non-null  datetime64[ns]\n",
      " 2   price          21613 non-null  float64       \n",
      " 3   bedrooms       21613 non-null  int64         \n",
      " 4   bathrooms      21613 non-null  float64       \n",
      " 5   sqft_living    21613 non-null  int64         \n",
      " 6   sqft_lot       21613 non-null  int64         \n",
      " 7   floors         21613 non-null  float64       \n",
      " 8   waterfront     21613 non-null  int64         \n",
      " 9   view           21613 non-null  int64         \n",
      " 10  condition      21613 non-null  int64         \n",
      " 11  grade          21613 non-null  int64         \n",
      " 12  sqft_above     21613 non-null  int64         \n",
      " 13  sqft_basement  21613 non-null  int64         \n",
      " 14  yr_built       21613 non-null  int64         \n",
      " 15  yr_renovated   21613 non-null  int64         \n",
      " 16  zipcode        21613 non-null  int64         \n",
      " 17  lat            21613 non-null  float64       \n",
      " 18  long           21613 non-null  float64       \n",
      " 19  sqft_living15  21613 non-null  int64         \n",
      " 20  sqft_lot15     21613 non-null  int64         \n",
      "dtypes: datetime64[ns](1), float64(5), int64(15)\n",
      "memory usage: 3.5 MB\n"
     ]
    }
   ],
   "source": [
    "#\"Convert the 'date' column to datetime format.\"\n",
    "df['date'] = pd.to_datetime(df['date'], format='%Y%m%dT%H%M%S')\n",
    "df.info()"
   ]
  },
  {
   "cell_type": "code",
   "execution_count": 6,
   "id": "f7300b0b-9a0c-4865-a8a4-830e4c96ab09",
   "metadata": {
    "id": "f7300b0b-9a0c-4865-a8a4-830e4c96ab09",
    "outputId": "0e78db36-5598-4699-df4a-0706af06a2e7"
   },
   "outputs": [
    {
     "data": {
      "image/png": "[encoded data removed]",
      "text/plain": [
       "<Figure size 640x480 with 1 Axes>"
      ]
     },
     "metadata": {},
     "output_type": "display_data"
    }
   ],
   "source": [
    "sns.scatterplot(x='bathrooms', y='price', data=df)\n",
    "plt.show()"
   ]
  },
  {
   "cell_type": "markdown",
   "id": "ba1b521b-830f-4152-8d73-473042c8c593",
   "metadata": {
    "id": "ba1b521b-830f-4152-8d73-473042c8c593"
   },
   "source": [
    "2. Disign and fit a multiple linear regression model, using `price` as the dependent variable and the following predictors `['bedrooms', 'bathrooms', 'view', 'grade']`. Produce the usual summary output. \n",
    "    1. Is the resulting model fitting well the data? \n",
    "    2. Are all the predictor's coefficients statistically significant? \n",
    "    3. Is there multicollinearity between the regressors?"
   ]
  },
  {
   "cell_type": "code",
   "execution_count": 7,
   "id": "826502d5-16d0-424c-a8ae-60d78fc31d14",
   "metadata": {
    "id": "826502d5-16d0-424c-a8ae-60d78fc31d14",
    "outputId": "b82d3f9a-cfb5-4b8a-a49d-713b81434f12"
   },
   "outputs": [
    {
     "data": {
      "text/html": [
       "<table class=\"simpletable\">\n",
       "<caption>OLS Regression Results</caption>\n",
       "<tr>\n",
       "  <th>Dep. Variable:</th>          <td>price</td>      <th>  R-squared:         </th>  <td>   0.514</td>  \n",
       "</tr>\n",
       "<tr>\n",
       "  <th>Model:</th>                   <td>OLS</td>       <th>  Adj. R-squared:    </th>  <td>   0.514</td>  \n",
       "</tr>\n",
       "<tr>\n",
       "  <th>Method:</th>             <td>Least Squares</td>  <th>  F-statistic:       </th>  <td>   5708.</td>  \n",
       "</tr>\n",
       "<tr>\n",
       "  <th>Date:</th>             <td>Tue, 30 May 2023</td> <th>  Prob (F-statistic):</th>   <td>  0.00</td>   \n",
       "</tr>\n",
       "<tr>\n",
       "  <th>Time:</th>                 <td>18:06:20</td>     <th>  Log-Likelihood:    </th> <td>-2.9981e+05</td>\n",
       "</tr>\n",
       "<tr>\n",
       "  <th>No. Observations:</th>      <td> 21613</td>      <th>  AIC:               </th>  <td>5.996e+05</td> \n",
       "</tr>\n",
       "<tr>\n",
       "  <th>Df Residuals:</th>          <td> 21608</td>      <th>  BIC:               </th>  <td>5.997e+05</td> \n",
       "</tr>\n",
       "<tr>\n",
       "  <th>Df Model:</th>              <td>     4</td>      <th>                     </th>      <td> </td>     \n",
       "</tr>\n",
       "<tr>\n",
       "  <th>Covariance Type:</th>      <td>nonrobust</td>    <th>                     </th>      <td> </td>     \n",
       "</tr>\n",
       "</table>\n",
       "<table class=\"simpletable\">\n",
       "<tr>\n",
       "      <td></td>         <th>coef</th>     <th>std err</th>      <th>t</th>      <th>P>|t|</th>  <th>[0.025</th>    <th>0.975]</th>  \n",
       "</tr>\n",
       "<tr>\n",
       "  <th>const</th>     <td>-8.937e+05</td> <td>  1.3e+04</td> <td>  -68.898</td> <td> 0.000</td> <td>-9.19e+05</td> <td>-8.68e+05</td>\n",
       "</tr>\n",
       "<tr>\n",
       "  <th>bedrooms</th>  <td> 1.855e+04</td> <td> 2186.988</td> <td>    8.484</td> <td> 0.000</td> <td> 1.43e+04</td> <td> 2.28e+04</td>\n",
       "</tr>\n",
       "<tr>\n",
       "  <th>bathrooms</th> <td> 5.401e+04</td> <td> 3304.360</td> <td>   16.346</td> <td> 0.000</td> <td> 4.75e+04</td> <td> 6.05e+04</td>\n",
       "</tr>\n",
       "<tr>\n",
       "  <th>view</th>      <td> 1.164e+05</td> <td> 2349.627</td> <td>   49.556</td> <td> 0.000</td> <td> 1.12e+05</td> <td> 1.21e+05</td>\n",
       "</tr>\n",
       "<tr>\n",
       "  <th>grade</th>     <td> 1.606e+05</td> <td> 2014.564</td> <td>   79.722</td> <td> 0.000</td> <td> 1.57e+05</td> <td> 1.65e+05</td>\n",
       "</tr>\n",
       "</table>\n",
       "<table class=\"simpletable\">\n",
       "<tr>\n",
       "  <th>Omnibus:</th>       <td>18992.884</td> <th>  Durbin-Watson:     </th>  <td>   1.964</td>  \n",
       "</tr>\n",
       "<tr>\n",
       "  <th>Prob(Omnibus):</th>  <td> 0.000</td>   <th>  Jarque-Bera (JB):  </th> <td>1893016.549</td>\n",
       "</tr>\n",
       "<tr>\n",
       "  <th>Skew:</th>           <td> 3.778</td>   <th>  Prob(JB):          </th>  <td>    0.00</td>  \n",
       "</tr>\n",
       "<tr>\n",
       "  <th>Kurtosis:</th>       <td>48.222</td>   <th>  Cond. No.          </th>  <td>    66.6</td>  \n",
       "</tr>\n",
       "</table><br/><br/>Notes:<br/>[1] Standard Errors assume that the covariance matrix of the errors is correctly specified."
      ],
      "text/plain": [
       "<class 'statsmodels.iolib.summary.Summary'>\n",
       "\"\"\"\n",
       "                            OLS Regression Results                            \n",
       "==============================================================================\n",
       "Dep. Variable:                  price   R-squared:                       0.514\n",
       "Model:                            OLS   Adj. R-squared:                  0.514\n",
       "Method:                 Least Squares   F-statistic:                     5708.\n",
       "Date:                Tue, 30 May 2023   Prob (F-statistic):               0.00\n",
       "Time:                        18:06:20   Log-Likelihood:            -2.9981e+05\n",
       "No. Observations:               21613   AIC:                         5.996e+05\n",
       "Df Residuals:                   21608   BIC:                         5.997e+05\n",
       "Df Model:                           4                                         \n",
       "Covariance Type:            nonrobust                                         \n",
       "==============================================================================\n",
       "                 coef    std err          t      P>|t|      [0.025      0.975]\n",
       "------------------------------------------------------------------------------\n",
       "const      -8.937e+05    1.3e+04    -68.898      0.000   -9.19e+05   -8.68e+05\n",
       "bedrooms    1.855e+04   2186.988      8.484      0.000    1.43e+04    2.28e+04\n",
       "bathrooms   5.401e+04   3304.360     16.346      0.000    4.75e+04    6.05e+04\n",
       "view        1.164e+05   2349.627     49.556      0.000    1.12e+05    1.21e+05\n",
       "grade       1.606e+05   2014.564     79.722      0.000    1.57e+05    1.65e+05\n",
       "==============================================================================\n",
       "Omnibus:                    18992.884   Durbin-Watson:                   1.964\n",
       "Prob(Omnibus):                  0.000   Jarque-Bera (JB):          1893016.549\n",
       "Skew:                           3.778   Prob(JB):                         0.00\n",
       "Kurtosis:                      48.222   Cond. No.                         66.6\n",
       "==============================================================================\n",
       "\n",
       "Notes:\n",
       "[1] Standard Errors assume that the covariance matrix of the errors is correctly specified.\n",
       "\"\"\""
      ]
     },
     "execution_count": 7,
     "metadata": {},
     "output_type": "execute_result"
    }
   ],
   "source": [
    "Y = df['price']\n",
    "X = df[['bedrooms','bathrooms','view','grade']]\n",
    "X = sm.add_constant(data=X)   # add a constant to the model\n",
    "model_mr = sm.OLS(endog=Y,exog=X)\n",
    "results_mr = model_mr.fit()\n",
    "results_mr.summary()"
   ]
  },
  {
   "cell_type": "markdown",
   "id": "b87adb4c-91e4-4e5e-bdc9-a87c233de0b1",
   "metadata": {
    "id": "b87adb4c-91e4-4e5e-bdc9-a87c233de0b1"
   },
   "source": [
    "> The model is fitting the data quite well with an $R^2 = 0.531$. All the regression coefficients are statistically significant with their p-values being all closes to zero and, in any case, lower than the threshold significance level of $\\alpha = 0.05$. There is no multicollinearity between the independent variables, being the Condition Number relatively low. "
   ]
  },
  {
   "cell_type": "markdown",
   "id": "1e45bf98-a5c8-4950-8cbe-86f22934ddde",
   "metadata": {
    "id": "1e45bf98-a5c8-4950-8cbe-86f22934ddde"
   },
   "source": [
    "3. Feature engineering: create a new feature `is_renovated` that is $1$ if the house has been renovated and $0$ otherwise. Add this new feature as a predictor to the previous model. Has the model's fit improved? "
   ]
  },
  {
   "cell_type": "code",
   "execution_count": 9,
   "id": "9d234a72-b6fa-4946-bec7-eff1ed40a45d",
   "metadata": {
    "id": "9d234a72-b6fa-4946-bec7-eff1ed40a45d"
   },
   "outputs": [
    {
     "data": {
      "text/html": [
       "<div>\n",
       "<style scoped>\n",
       "    .dataframe tbody tr th:only-of-type {\n",
       "        vertical-align: middle;\n",
       "    }\n",
       "\n",
       "    .dataframe tbody tr th {\n",
       "        vertical-align: top;\n",
       "    }\n",
       "\n",
       "    .dataframe thead th {\n",
       "        text-align: right;\n",
       "    }\n",
       "</style>\n",
       "<table border=\"1\" class=\"dataframe\">\n",
       "  <thead>\n",
       "    <tr style=\"text-align: right;\">\n",
       "      <th></th>\n",
       "      <th>id</th>\n",
       "      <th>date</th>\n",
       "      <th>price</th>\n",
       "      <th>bedrooms</th>\n",
       "      <th>bathrooms</th>\n",
       "      <th>sqft_living</th>\n",
       "      <th>sqft_lot</th>\n",
       "      <th>floors</th>\n",
       "      <th>waterfront</th>\n",
       "      <th>view</th>\n",
       "      <th>...</th>\n",
       "      <th>sqft_above</th>\n",
       "      <th>sqft_basement</th>\n",
       "      <th>yr_built</th>\n",
       "      <th>yr_renovated</th>\n",
       "      <th>zipcode</th>\n",
       "      <th>lat</th>\n",
       "      <th>long</th>\n",
       "      <th>sqft_living15</th>\n",
       "      <th>sqft_lot15</th>\n",
       "      <th>is_renovated</th>\n",
       "    </tr>\n",
       "  </thead>\n",
       "  <tbody>\n",
       "    <tr>\n",
       "      <th>11784</th>\n",
       "      <td>1823049046</td>\n",
       "      <td>2014-08-06</td>\n",
       "      <td>240000.0</td>\n",
       "      <td>2</td>\n",
       "      <td>1.50</td>\n",
       "      <td>1670</td>\n",
       "      <td>9880</td>\n",
       "      <td>1.0</td>\n",
       "      <td>0</td>\n",
       "      <td>0</td>\n",
       "      <td>...</td>\n",
       "      <td>1670</td>\n",
       "      <td>0</td>\n",
       "      <td>1941</td>\n",
       "      <td>1963</td>\n",
       "      <td>98146</td>\n",
       "      <td>47.4864</td>\n",
       "      <td>-122.348</td>\n",
       "      <td>1670</td>\n",
       "      <td>9807</td>\n",
       "      <td>1</td>\n",
       "    </tr>\n",
       "    <tr>\n",
       "      <th>14161</th>\n",
       "      <td>7660100085</td>\n",
       "      <td>2014-09-08</td>\n",
       "      <td>750000.0</td>\n",
       "      <td>5</td>\n",
       "      <td>2.75</td>\n",
       "      <td>2860</td>\n",
       "      <td>6000</td>\n",
       "      <td>2.5</td>\n",
       "      <td>0</td>\n",
       "      <td>0</td>\n",
       "      <td>...</td>\n",
       "      <td>2380</td>\n",
       "      <td>480</td>\n",
       "      <td>1902</td>\n",
       "      <td>0</td>\n",
       "      <td>98144</td>\n",
       "      <td>47.5906</td>\n",
       "      <td>-122.316</td>\n",
       "      <td>2240</td>\n",
       "      <td>6000</td>\n",
       "      <td>0</td>\n",
       "    </tr>\n",
       "    <tr>\n",
       "      <th>13587</th>\n",
       "      <td>1081200360</td>\n",
       "      <td>2014-08-06</td>\n",
       "      <td>260000.0</td>\n",
       "      <td>3</td>\n",
       "      <td>1.75</td>\n",
       "      <td>1750</td>\n",
       "      <td>11180</td>\n",
       "      <td>1.0</td>\n",
       "      <td>0</td>\n",
       "      <td>0</td>\n",
       "      <td>...</td>\n",
       "      <td>1750</td>\n",
       "      <td>0</td>\n",
       "      <td>1968</td>\n",
       "      <td>0</td>\n",
       "      <td>98059</td>\n",
       "      <td>47.4713</td>\n",
       "      <td>-122.117</td>\n",
       "      <td>1730</td>\n",
       "      <td>11180</td>\n",
       "      <td>0</td>\n",
       "    </tr>\n",
       "    <tr>\n",
       "      <th>2343</th>\n",
       "      <td>5634500036</td>\n",
       "      <td>2014-08-20</td>\n",
       "      <td>459000.0</td>\n",
       "      <td>5</td>\n",
       "      <td>2.50</td>\n",
       "      <td>2650</td>\n",
       "      <td>12987</td>\n",
       "      <td>1.0</td>\n",
       "      <td>0</td>\n",
       "      <td>0</td>\n",
       "      <td>...</td>\n",
       "      <td>1350</td>\n",
       "      <td>1300</td>\n",
       "      <td>1979</td>\n",
       "      <td>0</td>\n",
       "      <td>98028</td>\n",
       "      <td>47.7482</td>\n",
       "      <td>-122.244</td>\n",
       "      <td>2160</td>\n",
       "      <td>12726</td>\n",
       "      <td>0</td>\n",
       "    </tr>\n",
       "  </tbody>\n",
       "</table>\n",
       "<p>4 rows × 22 columns</p>\n",
       "</div>"
      ],
      "text/plain": [
       "               id       date     price  bedrooms  bathrooms  sqft_living  \\\n",
       "11784  1823049046 2014-08-06  240000.0         2       1.50         1670   \n",
       "14161  7660100085 2014-09-08  750000.0         5       2.75         2860   \n",
       "13587  1081200360 2014-08-06  260000.0         3       1.75         1750   \n",
       "2343   5634500036 2014-08-20  459000.0         5       2.50         2650   \n",
       "\n",
       "       sqft_lot  floors  waterfront  view  ...  sqft_above  sqft_basement  \\\n",
       "11784      9880     1.0           0     0  ...        1670              0   \n",
       "14161      6000     2.5           0     0  ...        2380            480   \n",
       "13587     11180     1.0           0     0  ...        1750              0   \n",
       "2343      12987     1.0           0     0  ...        1350           1300   \n",
       "\n",
       "       yr_built  yr_renovated  zipcode      lat     long  sqft_living15  \\\n",
       "11784      1941          1963    98146  47.4864 -122.348           1670   \n",
       "14161      1902             0    98144  47.5906 -122.316           2240   \n",
       "13587      1968             0    98059  47.4713 -122.117           1730   \n",
       "2343       1979             0    98028  47.7482 -122.244           2160   \n",
       "\n",
       "       sqft_lot15  is_renovated  \n",
       "11784        9807             1  \n",
       "14161        6000             0  \n",
       "13587       11180             0  \n",
       "2343        12726             0  \n",
       "\n",
       "[4 rows x 22 columns]"
      ]
     },
     "execution_count": 9,
     "metadata": {},
     "output_type": "execute_result"
    }
   ],
   "source": [
    "df['is_renovated'] = [1 if el > 0 else 0 for el in df.yr_renovated]\n",
    "df.sample(4)"
   ]
  },
  {
   "cell_type": "code",
   "execution_count": 10,
   "id": "eab7e1cd-681c-4ab1-98ed-d0792b9dfb58",
   "metadata": {
    "id": "eab7e1cd-681c-4ab1-98ed-d0792b9dfb58",
    "outputId": "805946de-5e0c-48da-fb3a-6b349636864f"
   },
   "outputs": [
    {
     "data": {
      "text/html": [
       "<table class=\"simpletable\">\n",
       "<caption>OLS Regression Results</caption>\n",
       "<tr>\n",
       "  <th>Dep. Variable:</th>          <td>price</td>      <th>  R-squared:         </th>  <td>   0.521</td>  \n",
       "</tr>\n",
       "<tr>\n",
       "  <th>Model:</th>                   <td>OLS</td>       <th>  Adj. R-squared:    </th>  <td>   0.521</td>  \n",
       "</tr>\n",
       "<tr>\n",
       "  <th>Method:</th>             <td>Least Squares</td>  <th>  F-statistic:       </th>  <td>   4709.</td>  \n",
       "</tr>\n",
       "<tr>\n",
       "  <th>Date:</th>             <td>Tue, 30 May 2023</td> <th>  Prob (F-statistic):</th>   <td>  0.00</td>   \n",
       "</tr>\n",
       "<tr>\n",
       "  <th>Time:</th>                 <td>18:07:08</td>     <th>  Log-Likelihood:    </th> <td>-2.9964e+05</td>\n",
       "</tr>\n",
       "<tr>\n",
       "  <th>No. Observations:</th>      <td> 21613</td>      <th>  AIC:               </th>  <td>5.993e+05</td> \n",
       "</tr>\n",
       "<tr>\n",
       "  <th>Df Residuals:</th>          <td> 21607</td>      <th>  BIC:               </th>  <td>5.993e+05</td> \n",
       "</tr>\n",
       "<tr>\n",
       "  <th>Df Model:</th>              <td>     5</td>      <th>                     </th>      <td> </td>     \n",
       "</tr>\n",
       "<tr>\n",
       "  <th>Covariance Type:</th>      <td>nonrobust</td>    <th>                     </th>      <td> </td>     \n",
       "</tr>\n",
       "</table>\n",
       "<table class=\"simpletable\">\n",
       "<tr>\n",
       "        <td></td>          <th>coef</th>     <th>std err</th>      <th>t</th>      <th>P>|t|</th>  <th>[0.025</th>    <th>0.975]</th>  \n",
       "</tr>\n",
       "<tr>\n",
       "  <th>const</th>        <td>-9.061e+05</td> <td> 1.29e+04</td> <td>  -70.318</td> <td> 0.000</td> <td>-9.31e+05</td> <td>-8.81e+05</td>\n",
       "</tr>\n",
       "<tr>\n",
       "  <th>bedrooms</th>     <td> 1.878e+04</td> <td> 2169.733</td> <td>    8.655</td> <td> 0.000</td> <td> 1.45e+04</td> <td>  2.3e+04</td>\n",
       "</tr>\n",
       "<tr>\n",
       "  <th>bathrooms</th>    <td> 5.095e+04</td> <td> 3282.351</td> <td>   15.524</td> <td> 0.000</td> <td> 4.45e+04</td> <td> 5.74e+04</td>\n",
       "</tr>\n",
       "<tr>\n",
       "  <th>view</th>         <td>  1.12e+05</td> <td> 2343.360</td> <td>   47.783</td> <td> 0.000</td> <td> 1.07e+05</td> <td> 1.17e+05</td>\n",
       "</tr>\n",
       "<tr>\n",
       "  <th>grade</th>        <td> 1.622e+05</td> <td> 2000.519</td> <td>   81.089</td> <td> 0.000</td> <td> 1.58e+05</td> <td> 1.66e+05</td>\n",
       "</tr>\n",
       "<tr>\n",
       "  <th>is_renovated</th> <td>  1.61e+05</td> <td> 8644.471</td> <td>   18.621</td> <td> 0.000</td> <td> 1.44e+05</td> <td> 1.78e+05</td>\n",
       "</tr>\n",
       "</table>\n",
       "<table class=\"simpletable\">\n",
       "<tr>\n",
       "  <th>Omnibus:</th>       <td>18917.249</td> <th>  Durbin-Watson:     </th>  <td>   1.968</td>  \n",
       "</tr>\n",
       "<tr>\n",
       "  <th>Prob(Omnibus):</th>  <td> 0.000</td>   <th>  Jarque-Bera (JB):  </th> <td>1839698.818</td>\n",
       "</tr>\n",
       "<tr>\n",
       "  <th>Skew:</th>           <td> 3.761</td>   <th>  Prob(JB):          </th>  <td>    0.00</td>  \n",
       "</tr>\n",
       "<tr>\n",
       "  <th>Kurtosis:</th>       <td>47.568</td>   <th>  Cond. No.          </th>  <td>    66.7</td>  \n",
       "</tr>\n",
       "</table><br/><br/>Notes:<br/>[1] Standard Errors assume that the covariance matrix of the errors is correctly specified."
      ],
      "text/plain": [
       "<class 'statsmodels.iolib.summary.Summary'>\n",
       "\"\"\"\n",
       "                            OLS Regression Results                            \n",
       "==============================================================================\n",
       "Dep. Variable:                  price   R-squared:                       0.521\n",
       "Model:                            OLS   Adj. R-squared:                  0.521\n",
       "Method:                 Least Squares   F-statistic:                     4709.\n",
       "Date:                Tue, 30 May 2023   Prob (F-statistic):               0.00\n",
       "Time:                        18:07:08   Log-Likelihood:            -2.9964e+05\n",
       "No. Observations:               21613   AIC:                         5.993e+05\n",
       "Df Residuals:                   21607   BIC:                         5.993e+05\n",
       "Df Model:                           5                                         \n",
       "Covariance Type:            nonrobust                                         \n",
       "================================================================================\n",
       "                   coef    std err          t      P>|t|      [0.025      0.975]\n",
       "--------------------------------------------------------------------------------\n",
       "const        -9.061e+05   1.29e+04    -70.318      0.000   -9.31e+05   -8.81e+05\n",
       "bedrooms      1.878e+04   2169.733      8.655      0.000    1.45e+04     2.3e+04\n",
       "bathrooms     5.095e+04   3282.351     15.524      0.000    4.45e+04    5.74e+04\n",
       "view           1.12e+05   2343.360     47.783      0.000    1.07e+05    1.17e+05\n",
       "grade         1.622e+05   2000.519     81.089      0.000    1.58e+05    1.66e+05\n",
       "is_renovated   1.61e+05   8644.471     18.621      0.000    1.44e+05    1.78e+05\n",
       "==============================================================================\n",
       "Omnibus:                    18917.249   Durbin-Watson:                   1.968\n",
       "Prob(Omnibus):                  0.000   Jarque-Bera (JB):          1839698.818\n",
       "Skew:                           3.761   Prob(JB):                         0.00\n",
       "Kurtosis:                      47.568   Cond. No.                         66.7\n",
       "==============================================================================\n",
       "\n",
       "Notes:\n",
       "[1] Standard Errors assume that the covariance matrix of the errors is correctly specified.\n",
       "\"\"\""
      ]
     },
     "execution_count": 10,
     "metadata": {},
     "output_type": "execute_result"
    }
   ],
   "source": [
    "Y = df['price']\n",
    "X = df[['bedrooms','bathrooms','view','grade','is_renovated']]\n",
    "X = sm.add_constant(data=X)   # add a constant to the model\n",
    "model_mr = sm.OLS(endog=Y,exog=X)\n",
    "results_mr = model_mr.fit()\n",
    "results_mr.summary()"
   ]
  },
  {
   "cell_type": "markdown",
   "id": "97c44240-4b5f-4565-a1a2-1fdbcca7ca26",
   "metadata": {
    "id": "97c44240-4b5f-4565-a1a2-1fdbcca7ca26"
   },
   "source": [
    "4. Let's say you own a house in King County, WA that has 4 bedrooms, 2 bathrooms and it has no particuar view. Its construction grade is 8 and it has been recently renovated. How much could you sell it for according to your last model?"
   ]
  },
  {
   "cell_type": "code",
   "execution_count": 11,
   "id": "f5a18589-89c4-424a-b59b-cc10bea03d26",
   "metadata": {
    "id": "f5a18589-89c4-424a-b59b-cc10bea03d26",
    "outputId": "32f63070-9a88-48d4-f467-157b6fa21d51"
   },
   "outputs": [
    {
     "name": "stdout",
     "output_type": "stream",
     "text": [
      "Predicted price of house: 729642 USD\n"
     ]
    }
   ],
   "source": [
    "pred_price = results_mr.predict(np.array([1,4,2,0,8,1]))\n",
    "print('Predicted price of house:', int(pred_price[0]), 'USD')"
   ]
  },
  {
   "cell_type": "markdown",
   "id": "61523f4b-f69d-4767-9fed-7934046c199b",
   "metadata": {
    "id": "61523f4b-f69d-4767-9fed-7934046c199b"
   },
   "source": [
    "5. Using the previous model as the starting point, add the `sqft_lot` variable as a new predictor, estimate the new model and produce the usual summary output. Has the model's fit improved? How has this impacted the Condition Number of the model? Why do you think this is? "
   ]
  },
  {
   "cell_type": "code",
   "execution_count": 12,
   "id": "191cf1ea-a1aa-4afc-aad4-75048b579caa",
   "metadata": {
    "id": "191cf1ea-a1aa-4afc-aad4-75048b579caa",
    "outputId": "0fa55b76-b6f9-4df0-d21a-fbfcb5fb669a"
   },
   "outputs": [
    {
     "data": {
      "text/html": [
       "<table class=\"simpletable\">\n",
       "<caption>OLS Regression Results</caption>\n",
       "<tr>\n",
       "  <th>Dep. Variable:</th>          <td>price</td>      <th>  R-squared:         </th>  <td>   0.521</td>  \n",
       "</tr>\n",
       "<tr>\n",
       "  <th>Model:</th>                   <td>OLS</td>       <th>  Adj. R-squared:    </th>  <td>   0.521</td>  \n",
       "</tr>\n",
       "<tr>\n",
       "  <th>Method:</th>             <td>Least Squares</td>  <th>  F-statistic:       </th>  <td>   3924.</td>  \n",
       "</tr>\n",
       "<tr>\n",
       "  <th>Date:</th>             <td>Tue, 30 May 2023</td> <th>  Prob (F-statistic):</th>   <td>  0.00</td>   \n",
       "</tr>\n",
       "<tr>\n",
       "  <th>Time:</th>                 <td>18:07:27</td>     <th>  Log-Likelihood:    </th> <td>-2.9964e+05</td>\n",
       "</tr>\n",
       "<tr>\n",
       "  <th>No. Observations:</th>      <td> 21613</td>      <th>  AIC:               </th>  <td>5.993e+05</td> \n",
       "</tr>\n",
       "<tr>\n",
       "  <th>Df Residuals:</th>          <td> 21606</td>      <th>  BIC:               </th>  <td>5.993e+05</td> \n",
       "</tr>\n",
       "<tr>\n",
       "  <th>Df Model:</th>              <td>     6</td>      <th>                     </th>      <td> </td>     \n",
       "</tr>\n",
       "<tr>\n",
       "  <th>Covariance Type:</th>      <td>nonrobust</td>    <th>                     </th>      <td> </td>     \n",
       "</tr>\n",
       "</table>\n",
       "<table class=\"simpletable\">\n",
       "<tr>\n",
       "        <td></td>          <th>coef</th>     <th>std err</th>      <th>t</th>      <th>P>|t|</th>  <th>[0.025</th>    <th>0.975]</th>  \n",
       "</tr>\n",
       "<tr>\n",
       "  <th>const</th>        <td> -9.06e+05</td> <td> 1.29e+04</td> <td>  -70.268</td> <td> 0.000</td> <td>-9.31e+05</td> <td>-8.81e+05</td>\n",
       "</tr>\n",
       "<tr>\n",
       "  <th>bedrooms</th>     <td> 1.879e+04</td> <td> 2170.069</td> <td>    8.659</td> <td> 0.000</td> <td> 1.45e+04</td> <td>  2.3e+04</td>\n",
       "</tr>\n",
       "<tr>\n",
       "  <th>bathrooms</th>    <td> 5.093e+04</td> <td> 3283.096</td> <td>   15.513</td> <td> 0.000</td> <td> 4.45e+04</td> <td> 5.74e+04</td>\n",
       "</tr>\n",
       "<tr>\n",
       "  <th>view</th>         <td> 1.119e+05</td> <td> 2345.984</td> <td>   47.713</td> <td> 0.000</td> <td> 1.07e+05</td> <td> 1.17e+05</td>\n",
       "</tr>\n",
       "<tr>\n",
       "  <th>grade</th>        <td> 1.622e+05</td> <td> 2004.862</td> <td>   80.891</td> <td> 0.000</td> <td> 1.58e+05</td> <td> 1.66e+05</td>\n",
       "</tr>\n",
       "<tr>\n",
       "  <th>is_renovated</th> <td>  1.61e+05</td> <td> 8644.648</td> <td>   18.620</td> <td> 0.000</td> <td> 1.44e+05</td> <td> 1.78e+05</td>\n",
       "</tr>\n",
       "<tr>\n",
       "  <th>sqft_lot</th>     <td>    0.0145</td> <td>    0.042</td> <td>    0.346</td> <td> 0.729</td> <td>   -0.068</td> <td>    0.097</td>\n",
       "</tr>\n",
       "</table>\n",
       "<table class=\"simpletable\">\n",
       "<tr>\n",
       "  <th>Omnibus:</th>       <td>18919.522</td> <th>  Durbin-Watson:     </th>  <td>   1.968</td>  \n",
       "</tr>\n",
       "<tr>\n",
       "  <th>Prob(Omnibus):</th>  <td> 0.000</td>   <th>  Jarque-Bera (JB):  </th> <td>1840400.254</td>\n",
       "</tr>\n",
       "<tr>\n",
       "  <th>Skew:</th>           <td> 3.762</td>   <th>  Prob(JB):          </th>  <td>    0.00</td>  \n",
       "</tr>\n",
       "<tr>\n",
       "  <th>Kurtosis:</th>       <td>47.576</td>   <th>  Cond. No.          </th>  <td>3.35e+05</td>  \n",
       "</tr>\n",
       "</table><br/><br/>Notes:<br/>[1] Standard Errors assume that the covariance matrix of the errors is correctly specified.<br/>[2] The condition number is large, 3.35e+05. This might indicate that there are<br/>strong multicollinearity or other numerical problems."
      ],
      "text/plain": [
       "<class 'statsmodels.iolib.summary.Summary'>\n",
       "\"\"\"\n",
       "                            OLS Regression Results                            \n",
       "==============================================================================\n",
       "Dep. Variable:                  price   R-squared:                       0.521\n",
       "Model:                            OLS   Adj. R-squared:                  0.521\n",
       "Method:                 Least Squares   F-statistic:                     3924.\n",
       "Date:                Tue, 30 May 2023   Prob (F-statistic):               0.00\n",
       "Time:                        18:07:27   Log-Likelihood:            -2.9964e+05\n",
       "No. Observations:               21613   AIC:                         5.993e+05\n",
       "Df Residuals:                   21606   BIC:                         5.993e+05\n",
       "Df Model:                           6                                         \n",
       "Covariance Type:            nonrobust                                         \n",
       "================================================================================\n",
       "                   coef    std err          t      P>|t|      [0.025      0.975]\n",
       "--------------------------------------------------------------------------------\n",
       "const         -9.06e+05   1.29e+04    -70.268      0.000   -9.31e+05   -8.81e+05\n",
       "bedrooms      1.879e+04   2170.069      8.659      0.000    1.45e+04     2.3e+04\n",
       "bathrooms     5.093e+04   3283.096     15.513      0.000    4.45e+04    5.74e+04\n",
       "view          1.119e+05   2345.984     47.713      0.000    1.07e+05    1.17e+05\n",
       "grade         1.622e+05   2004.862     80.891      0.000    1.58e+05    1.66e+05\n",
       "is_renovated   1.61e+05   8644.648     18.620      0.000    1.44e+05    1.78e+05\n",
       "sqft_lot         0.0145      0.042      0.346      0.729      -0.068       0.097\n",
       "==============================================================================\n",
       "Omnibus:                    18919.522   Durbin-Watson:                   1.968\n",
       "Prob(Omnibus):                  0.000   Jarque-Bera (JB):          1840400.254\n",
       "Skew:                           3.762   Prob(JB):                         0.00\n",
       "Kurtosis:                      47.576   Cond. No.                     3.35e+05\n",
       "==============================================================================\n",
       "\n",
       "Notes:\n",
       "[1] Standard Errors assume that the covariance matrix of the errors is correctly specified.\n",
       "[2] The condition number is large, 3.35e+05. This might indicate that there are\n",
       "strong multicollinearity or other numerical problems.\n",
       "\"\"\""
      ]
     },
     "execution_count": 12,
     "metadata": {},
     "output_type": "execute_result"
    }
   ],
   "source": [
    "Y = df['price']\n",
    "X = df[['bedrooms','bathrooms','view','grade','is_renovated', 'sqft_lot']]\n",
    "X = sm.add_constant(data=X)   # add a constant to the model\n",
    "model_mr = sm.OLS(endog=Y,exog=X)\n",
    "results_mr = model_mr.fit()\n",
    "results_mr.summary()"
   ]
  },
  {
   "cell_type": "markdown",
   "id": "db1519ec-fae4-40c4-a45b-ee622daff6a9",
   "metadata": {
    "id": "db1519ec-fae4-40c4-a45b-ee622daff6a9"
   },
   "source": [
    "> The model's fit has not improved after adding the `sqft_lot` variable to the equation. Also, the Condition Number has increased dramatically, indicating potential multicollinearity between the predictors. This is probably due to the fact that the number of bedrooms/bathrooms in a house is a proxy of the house's size, therefore these two variables are likely to be correlated to the total squared feet of the house. "
   ]
  },
  {
   "cell_type": "markdown",
   "id": "758014cb-2999-4393-9312-de32f8f21ed4",
   "metadata": {
    "id": "758014cb-2999-4393-9312-de32f8f21ed4"
   },
   "source": [
    "6. Using the model defined in question 3, split the dataset into two training and test subsets, where 33% of the available data should be used for testing (use `random_state=42` to make the results replicable). Then: \n",
    "    1. Fit the model to the training split\n",
    "    2. Calculate the MAE for the training model\n",
    "    3. Use the testing data to predict the response variable `y_test` using the model you just fitted \n",
    "    4. Calculate the MAE for the test model\n",
    "    5. Would you say that the model you trained is overfitting the data? \n",
    "    6. Given the MAE results, are you happy with the model? Would you trust its predictions? If not, what would you do to improve the model? "
   ]
  },
  {
   "cell_type": "code",
   "execution_count": null,
   "id": "305d0583-de63-4dff-9d5a-78ebacfa93f5",
   "metadata": {
    "id": "305d0583-de63-4dff-9d5a-78ebacfa93f5"
   },
   "outputs": [],
   "source": [
    "y = df['price']\n",
    "X = df[['bedrooms','bathrooms','view','grade','is_renovated']]\n",
    "X = sm.add_constant(data=X)   # add a constant to the model\n",
    "\n",
    "from sklearn.model_selection import train_test_split\n",
    "X_train, X_test, y_train, y_test = train_test_split(X, y, test_size=0.33, random_state=42)"
   ]
  },
  {
   "cell_type": "code",
   "execution_count": null,
   "id": "fd31115a-41de-4d11-84e6-592dbd2ac8f2",
   "metadata": {
    "id": "fd31115a-41de-4d11-84e6-592dbd2ac8f2",
    "outputId": "c4720214-32bd-4614-8c69-186f497ece95"
   },
   "outputs": [],
   "source": [
    "model = sm.OLS(endog=y_train,exog=X_train)\n",
    "results = model.fit()\n",
    "results.summary()"
   ]
  },
  {
   "cell_type": "code",
   "execution_count": null,
   "id": "e828af3d-c5a0-44bb-af1b-eeae87486d7a",
   "metadata": {
    "id": "e828af3d-c5a0-44bb-af1b-eeae87486d7a"
   },
   "outputs": [],
   "source": [
    "def mae(y, pred): \n",
    "    return round(np.mean(np.abs(y - pred)), 2)"
   ]
  },
  {
   "cell_type": "code",
   "execution_count": null,
   "id": "345c933c-5022-43b4-a469-96126f9301f5",
   "metadata": {
    "id": "345c933c-5022-43b4-a469-96126f9301f5",
    "outputId": "667ca66e-9ccd-42b3-c03b-e1c5bf7fc460"
   },
   "outputs": [],
   "source": [
    "pred_train = results.predict(X_train)\n",
    "\n",
    "print('Naïve Training MAE:', mae(y_train, np.mean(y_train))) #naive mae\n",
    "print('Training MAE:', mae(y_train, pred_train)) # mae"
   ]
  },
  {
   "cell_type": "code",
   "execution_count": null,
   "id": "736f6e95-7a05-4238-8580-36433cf6c096",
   "metadata": {
    "id": "736f6e95-7a05-4238-8580-36433cf6c096",
    "outputId": "209544b6-6bfb-46d9-c391-8b2261ce411b"
   },
   "outputs": [],
   "source": [
    "pred_test = results.predict(X_test)\n",
    "\n",
    "print('Naïve Testing MAE:', mae(y_test, np.mean(y_test))) #naive mae\n",
    "print('Testing MAE:', mae(y_test, pred_test)) # mae"
   ]
  },
  {
   "cell_type": "markdown",
   "id": "e5737db9-03ba-4d12-b641-39bfd1e858c7",
   "metadata": {
    "id": "e5737db9-03ba-4d12-b641-39bfd1e858c7"
   },
   "source": [
    "> No, the model is not overfitting the data, since the Training and Testing errors are not too far off from each other. "
   ]
  },
  {
   "cell_type": "markdown",
   "id": "48ef738a-807a-46a3-9f42-c7677b52c1f5",
   "metadata": {
    "id": "48ef738a-807a-46a3-9f42-c7677b52c1f5"
   },
   "source": [
    "> I wouldn't put too much trust on this particular model, more work needs to be done in terms of feature engineering and selection in order to increase the goodness of fit to the data, so I would keep testing more variables to increase the R-squared and reduce the MAE. Being a more complez dataset, another option would be to test more advanced regression algorithms and include categorical variables as predictors. "
   ]
  },
  {
   "cell_type": "markdown",
   "id": "599ef291-a3b0-4b86-85b7-89147cc7966a",
   "metadata": {
    "id": "599ef291-a3b0-4b86-85b7-89147cc7966a"
   },
   "source": [
    "7. Define two new functions `mape()` and `rmse()` that calculate the Mean Absolute Percentage Error and the Root Mean Squared Error respectively. Read about [their differences](https://neptune.ai/blog/performance-metrics-in-machine-learning-complete-guide) and use them on the training and testing predictions from question 7. "
   ]
  },
  {
   "cell_type": "code",
   "execution_count": null,
   "id": "9f0d9f06-fa95-4060-bad4-1b3aa02e6fb5",
   "metadata": {
    "id": "9f0d9f06-fa95-4060-bad4-1b3aa02e6fb5"
   },
   "outputs": [],
   "source": [
    "# other accuracy metrics\n",
    "\n",
    "# Mean Absolute Percentage Error (MAPE)\n",
    "def mape(y, pred): \n",
    "    return round(np.mean(np.abs((y - pred)/y))*100, 2)\n",
    "\n",
    "# Root Mean Squared Error (RMSE)\n",
    "def rmse(y, pred):\n",
    "    return round(np.sqrt(np.mean((y - pred)**2)), 2)"
   ]
  },
  {
   "cell_type": "code",
   "execution_count": null,
   "id": "ec50064f-48b4-40e7-8138-9ea57d0bab66",
   "metadata": {
    "id": "ec50064f-48b4-40e7-8138-9ea57d0bab66",
    "outputId": "b58d8495-ae40-452d-f449-d942f094b7a4"
   },
   "outputs": [],
   "source": [
    "print('Training MAPE:', mape(y_train, pred_train), '%')\n",
    "print('Testing MAPE:', mape(y_test, pred_test), '%') \n",
    "\n",
    "print('Training RMSE:', rmse(y_train, pred_train))\n",
    "print('Testing RMSE:', rmse(y_test, pred_test)) "
   ]
  },
  {
   "cell_type": "markdown",
   "id": "2a58fe68-9fe6-4515-951e-649a7956f148",
   "metadata": {
    "id": "2a58fe68-9fe6-4515-951e-649a7956f148"
   },
   "source": [
    "9. Can you improve the model further by trying to include more features (maintaining all coefficients statistically significant and keeping multicollinearity at bay)? "
   ]
  },
  {
   "cell_type": "code",
   "execution_count": null,
   "id": "60c782d1-ef8e-41ca-bf06-12156e4d8250",
   "metadata": {
    "id": "60c782d1-ef8e-41ca-bf06-12156e4d8250",
    "outputId": "297c853b-ad27-4053-e6bd-fc6659cbc536"
   },
   "outputs": [],
   "source": [
    "y = df['price']\n",
    "X = df[['bedrooms', 'bathrooms', 'floors', 'waterfront', 'view', 'condition', 'grade', 'is_renovated']]\n",
    "X = sm.add_constant(data=X)   # add a constant to the model\n",
    "\n",
    "from sklearn.model_selection import train_test_split\n",
    "X_train, X_test, y_train, y_test = train_test_split(X, y, test_size=0.33, random_state=42)\n",
    "\n",
    "model = sm.OLS(endog=y_train,exog=X_train)\n",
    "results = model.fit()\n",
    "results.summary()"
   ]
  },
  {
   "cell_type": "code",
   "execution_count": null,
   "id": "842d3e94-ac1f-47f0-ac86-f6f8b776ded3",
   "metadata": {
    "id": "842d3e94-ac1f-47f0-ac86-f6f8b776ded3",
    "outputId": "21cf0175-db6f-4b79-dfe8-ca86902fa63e"
   },
   "outputs": [],
   "source": [
    "pred_train = results.predict(X_train)\n",
    "\n",
    "print('Naïve Training MAE:', mae(y_train, np.mean(pred_train))) #naive mae\n",
    "print('Training MAE:', mae(y_train, pred_train)) # mae"
   ]
  },
  {
   "cell_type": "code",
   "execution_count": null,
   "id": "b367be15-2923-47d4-a0ba-baa1391c68c2",
   "metadata": {
    "id": "b367be15-2923-47d4-a0ba-baa1391c68c2",
    "outputId": "d33ca975-c5b8-4f7b-da63-bcc0725625c7"
   },
   "outputs": [],
   "source": [
    "pred_test = results.predict(X_test)\n",
    "\n",
    "print('Naïve Testing MAE:', mae(y_test, np.mean(pred_test))) #naive mae\n",
    "print('Testing MAE:', mae(y_test, pred_test)) # mae"
   ]
  },
  {
   "cell_type": "code",
   "execution_count": null,
   "id": "1132926d-ae64-4b0c-82a3-e26b207d7638",
   "metadata": {
    "id": "1132926d-ae64-4b0c-82a3-e26b207d7638"
   },
   "outputs": [],
   "source": []
  }
 ],
 "metadata": {
  "colab": {
   "provenance": []
  },
  "kernelspec": {
   "display_name": "Python 3 (ipykernel)",
   "language": "python",
   "name": "python3"
  },
  "language_info": {
   "codemirror_mode": {
    "name": "ipython",
    "version": 3
   },
   "file_extension": ".py",
   "mimetype": "text/x-python",
   "name": "python",
   "nbconvert_exporter": "python",
   "pygments_lexer": "ipython3",
   "version": "3.9.16"
  }
 },
 "nbformat": 4,
 "nbformat_minor": 5
}
